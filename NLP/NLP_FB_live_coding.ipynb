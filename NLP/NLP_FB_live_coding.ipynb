{
 "cells": [
  {
   "cell_type": "markdown",
   "metadata": {},
   "source": [
    "# Frequencies of words in novels: a Data Science pipeline"
   ]
  },
  {
   "cell_type": "markdown",
   "metadata": {},
   "source": [
    "<img src=\"img/moby-dick.jpg\" width=\"350\">"
   ]
  },
  {
   "cell_type": "markdown",
   "metadata": {},
   "source": [
    "In this code-along session, you will use some basic Natural Language Processing to plot the most frequently occurring words in the novel _Moby Dick_. In doing so, you'll also see the efficacy of thinking in terms of the following Data Science pipeline with a constant regard for process:\n",
    "1. State your question;\n",
    "2. Get your data;\n",
    "3. Wrangle your data to answer your question;\n",
    "4. Answer your question;\n",
    "5. Present your solution so that others can understand it.\n",
    "\n",
    "For example, what would the following word frequency distribution be from?\n",
    "\n",
    "<img src=\"img/d-x.png\" width=\"350\">"
   ]
  },
  {
   "cell_type": "markdown",
   "metadata": {},
   "source": [
    "## Pre-steps\n",
    "\n",
    "Follow the instructions in the README.md to get your system set up and ready to go."
   ]
  },
  {
   "cell_type": "markdown",
   "metadata": {},
   "source": [
    "## 1. State your question\n",
    "\n",
    "What are the most frequent words in the novel _Moby Dick_ and how often do they occur?"
   ]
  },
  {
   "cell_type": "markdown",
   "metadata": {},
   "source": [
    "## 2. Get your data"
   ]
  },
  {
   "cell_type": "markdown",
   "metadata": {},
   "source": [
    "Your raw data is the text of Melville's novel _Moby Dick_. We can find it at [Project Gutenberg](https://www.gutenberg.org/). \n",
    "\n",
    "**TO DO:** Head there, find _Moby Dick_ and then store the relevant url in your Python namespace:"
   ]
  },
  {
   "cell_type": "code",
   "execution_count": 1,
   "metadata": {},
   "outputs": [],
   "source": [
    "# Store url\n",
    "url = 'https://www.gutenberg.org/files/2701/2701-h/2701-h.htm'"
   ]
  },
  {
   "cell_type": "markdown",
   "metadata": {},
   "source": [
    "\n",
    "You're going to use [`requests`](http://docs.python-requests.org/en/master/) to get the web data.\n",
    "You can find out more in DataCamp's [Importing Data in Python (Part 2) course](https://www.datacamp.com/courses/importing-data-in-python-part-2). \n",
    "\n",
    "<img src=\"img/requests.png\" width=\"200\">\n",
    "\n",
    "According to the `requests` package website:\n",
    "\n",
    "> Requests is one of the most downloaded Python packages of all time, pulling in over 13,000,000 downloads every month. All the cool kids are doing it!\n",
    "\n",
    "You'll be making a `GET` request from the website, which means you're _getting_ data from it. `requests` make this easy with its `get` function. \n",
    "\n",
    "**TO DO:** Make the request here and check the object type returned."
   ]
  },
  {
   "cell_type": "code",
   "execution_count": 2,
   "metadata": {},
   "outputs": [
    {
     "data": {
      "text/plain": [
       "requests.models.Response"
      ]
     },
     "execution_count": 2,
     "metadata": {},
     "output_type": "execute_result"
    }
   ],
   "source": [
    "# Import `requests`\n",
    "import requests\n",
    "\n",
    "# Make the request and check object type\n",
    "r = requests.get(url)\n",
    "type(r)\n",
    "\n"
   ]
  },
  {
   "cell_type": "markdown",
   "metadata": {},
   "source": [
    "This is a `Response` object. You can see in the [`requests` kickstart guide](http://docs.python-requests.org/en/master/user/quickstart/) that a `Response` object has an attribute `text` that allows you to get the HTML from it! \n",
    "\n",
    "**TO DO:** Get the HTML and print the HTML to check it out:"
   ]
  },
  {
   "cell_type": "code",
   "execution_count": 3,
   "metadata": {},
   "outputs": [],
   "source": [
    "# Extract HTML from Response object and print\n",
    "html = r.text\n",
    "#print(html)"
   ]
  },
  {
   "cell_type": "markdown",
   "metadata": {},
   "source": [
    "OK! This HTML is not quite what you want. However, it does _contain_ what you want: the text of _Moby Dick_. What you need to do now is _wrangle_ this HTML to extract the novel. "
   ]
  },
  {
   "cell_type": "markdown",
   "metadata": {},
   "source": [
    "**Recap:** \n",
    "\n",
    "* you have now scraped the web to get _Moby Dick_ from Project Gutenberg.\n",
    "\n",
    "**Up next:** it's time for you to parse the html and extract the text of the novel."
   ]
  },
  {
   "cell_type": "markdown",
   "metadata": {},
   "source": [
    "## 3. Wrangle your data to answer the question"
   ]
  },
  {
   "cell_type": "markdown",
   "metadata": {},
   "source": [
    "### Part 1: getting the text from the HTML"
   ]
  },
  {
   "cell_type": "markdown",
   "metadata": {},
   "source": [
    "\n",
    "Here you'll use the package [`BeautifulSoup`](https://www.crummy.com/software/BeautifulSoup/). The package website says:\n",
    "\n",
    "<img src=\"img/bs4.png\" width=\"550\">\n",
    "\n",
    "\n",
    "**TO DO:** Create a `BeautifulSoup` object from the HTML."
   ]
  },
  {
   "cell_type": "code",
   "execution_count": 4,
   "metadata": {},
   "outputs": [
    {
     "data": {
      "text/plain": [
       "bs4.BeautifulSoup"
      ]
     },
     "execution_count": 4,
     "metadata": {},
     "output_type": "execute_result"
    }
   ],
   "source": [
    "# Import BeautifulSoup from bs4\n",
    "from bs4 import BeautifulSoup \n",
    "\n",
    "# Create a BeautifulSoup object from the HTML\n",
    "soup = BeautifulSoup(html, \"html5lib\")\n",
    "type(soup)"
   ]
  },
  {
   "cell_type": "markdown",
   "metadata": {},
   "source": [
    "From these soup objects, you can extract all types of interesting information about the website you're scraping, such as title:"
   ]
  },
  {
   "cell_type": "code",
   "execution_count": 5,
   "metadata": {},
   "outputs": [
    {
     "data": {
      "text/plain": [
       "<title>\n",
       "      Moby Dick; Or the Whale, by Herman Melville\n",
       "    </title>"
      ]
     },
     "execution_count": 5,
     "metadata": {},
     "output_type": "execute_result"
    }
   ],
   "source": [
    "# Get soup title\n",
    "soup.title"
   ]
  },
  {
   "cell_type": "markdown",
   "metadata": {},
   "source": [
    "Or the title as a string:"
   ]
  },
  {
   "cell_type": "code",
   "execution_count": 6,
   "metadata": {},
   "outputs": [
    {
     "data": {
      "text/plain": [
       "'\\n      Moby Dick; Or the Whale, by Herman Melville\\n    '"
      ]
     },
     "execution_count": 6,
     "metadata": {},
     "output_type": "execute_result"
    }
   ],
   "source": [
    "# Get soup title as string\n",
    "soup.title.string"
   ]
  },
  {
   "cell_type": "markdown",
   "metadata": {},
   "source": [
    "Or all URLs found within a page’s < a > tags (hyperlinks):"
   ]
  },
  {
   "cell_type": "code",
   "execution_count": 7,
   "metadata": {},
   "outputs": [
    {
     "data": {
      "text/plain": [
       "[<a href=\"#link2H_4_0002\"> ETYMOLOGY. </a>,\n",
       " <a href=\"#link2H_4_0003\"> EXTRACTS (Supplied by a Sub-Sub-Librarian).\n",
       "         </a>,\n",
       " <a href=\"#link2HCH0001\"> CHAPTER 1. Loomings. </a>,\n",
       " <a href=\"#link2HCH0002\"> CHAPTER 2. The Carpet-Bag. </a>,\n",
       " <a href=\"#link2HCH0003\"> CHAPTER 3. The Spouter-Inn. </a>,\n",
       " <a href=\"#link2HCH0004\"> CHAPTER 4. The Counterpane. </a>,\n",
       " <a href=\"#link2HCH0005\"> CHAPTER 5. Breakfast. </a>,\n",
       " <a href=\"#link2HCH0006\"> CHAPTER 6. The Street. </a>,\n",
       " <a href=\"#link2HCH0007\"> CHAPTER 7. The Chapel. </a>,\n",
       " <a href=\"#link2HCH0008\"> CHAPTER 8. The Pulpit. </a>]"
      ]
     },
     "execution_count": 7,
     "metadata": {},
     "output_type": "execute_result"
    }
   ],
   "source": [
    "# Get hyperlinks from soup and check out first 10\n",
    "soup.findAll('a')[:10]"
   ]
  },
  {
   "cell_type": "markdown",
   "metadata": {},
   "source": [
    "What you want to do is to extract the text from the `soup` and there's a super helpful `.get_text()` method precisely for this. \n",
    "\n",
    "**TO DO:** Get the text, print it out and have a look at it. Is it what you want?"
   ]
  },
  {
   "cell_type": "code",
   "execution_count": 8,
   "metadata": {},
   "outputs": [],
   "source": [
    "# Get the text out of the soup and print it\n",
    "text = soup.get_text()\n",
    "#print(text)"
   ]
  },
  {
   "cell_type": "markdown",
   "metadata": {},
   "source": [
    "Notice that this is now nearly what you want. You'll need to do a bit more work."
   ]
  },
  {
   "cell_type": "markdown",
   "metadata": {},
   "source": [
    "**Recap:** \n",
    "\n",
    "* you have scraped the web to get _Moby Dick_ from Project Gutenberg;\n",
    "* you have also now parsed the html and extracted the text of the novel.\n",
    "\n",
    "**Up next:** you'll use Natural Language Processing, tokenization and regular expressions to extract the list of words in _Moby Dick_."
   ]
  },
  {
   "cell_type": "markdown",
   "metadata": {},
   "source": [
    "### Part 2: Extract words from your text using NLP"
   ]
  },
  {
   "cell_type": "markdown",
   "metadata": {},
   "source": [
    "You'll now use `nltk`, the Natural Language Toolkit, to\n",
    "\n",
    "1. Tokenize the text (fancy term for splitting into tokens, such as words);\n",
    "2. Remove stopwords (words such as 'a' and 'the' that occur a great deal in ~ nearly all English language texts.\n"
   ]
  },
  {
   "cell_type": "markdown",
   "metadata": {},
   "source": [
    "#### Step 1: Tokenize\n",
    "\n",
    "You want to tokenize your text, that is, split it into a list a words.\n",
    "\n",
    "To do this, you're going to use a powerful tool called _regular expressions_, or _regex_.\n",
    "\n",
    "* Example: you have the string 'peter piper picked a peck of pickled peppers' and you want to extract from the list of _all_ words in it that start with a 'p'. \n",
    "\n",
    "The regular expression that matches all words beginning with 'p' is 'p\\w+'. Let's unpack this: \n",
    "\n",
    "* the 'p' at the beginning of the regular expression means that you'll only match sequences of characters that start with a 'p';\n",
    "* the '\\w' is a special character that will match any alphanumeric A-Z, a-z, 0-9, along with underscores;\n",
    "* The '+' tells you that the previous character in the regex can appear as many times as you want in strings that you're trying to match. This means that '\\w+' will match arbitrary sequences of alphanumeric characters and underscores.\n",
    "\n",
    "**You'll now use the built-in Python package `re` to extract all words beginning with 'p' from the sentence 'peter piper picked a peck of pickled peppers' as a warm-up.**\n",
    "\n"
   ]
  },
  {
   "cell_type": "code",
   "execution_count": 9,
   "metadata": {},
   "outputs": [
    {
     "data": {
      "text/plain": [
       "['peter', 'piper', 'picked', 'peck', 'pickled', 'peppers']"
      ]
     },
     "execution_count": 9,
     "metadata": {},
     "output_type": "execute_result"
    }
   ],
   "source": [
    "# Import regex package\n",
    "\n",
    "import re\n",
    "\n",
    "# Define sentence\n",
    "sentence = 'peter piper picked a peck of pickled peppers'\n",
    "\n",
    "# Define regex\n",
    "\n",
    "pick = 'p\\w+'\n",
    "\n",
    "# Find all words in sentence that match the regex and print them\n",
    "re.findall(pick, sentence)"
   ]
  },
  {
   "cell_type": "markdown",
   "metadata": {},
   "source": [
    "This looks pretty good. Now, if 'p\\w+' is the regex that matches words beginning with 'p', what's the regex that matches all words?\n",
    "\n",
    "**It's your job to now do this for our toy Peter Piper sentence above.**"
   ]
  },
  {
   "cell_type": "code",
   "execution_count": 10,
   "metadata": {},
   "outputs": [
    {
     "data": {
      "text/plain": [
       "['peter', 'piper', 'picked', 'a', 'peck', 'of', 'pickled', 'peppers']"
      ]
     },
     "execution_count": 10,
     "metadata": {},
     "output_type": "execute_result"
    }
   ],
   "source": [
    "# Find all words and print them\n",
    "pick_all = '\\w+'\n",
    "re.findall(pick_all, sentence)"
   ]
  },
  {
   "cell_type": "markdown",
   "metadata": {},
   "source": [
    "**TO DO:** use regex to get all the words in _Moby Dick_:"
   ]
  },
  {
   "cell_type": "code",
   "execution_count": 11,
   "metadata": {},
   "outputs": [
    {
     "data": {
      "text/plain": [
       "['Moby',\n",
       " 'Dick',\n",
       " 'Or',\n",
       " 'the',\n",
       " 'Whale',\n",
       " 'by',\n",
       " 'Herman',\n",
       " 'Melville',\n",
       " 'body',\n",
       " 'background']"
      ]
     },
     "execution_count": 11,
     "metadata": {},
     "output_type": "execute_result"
    }
   ],
   "source": [
    "# Find all words in Moby Dick and print several\n",
    "tokens = re.findall(pick_all, text)\n",
    "tokens[:10]"
   ]
  },
  {
   "cell_type": "markdown",
   "metadata": {},
   "source": [
    "**Recap:** \n",
    "\n",
    "* you have scraped the web to get _Moby Dick_ from Project Gutenberg;\n",
    "* you have parsed the html and extracted the text of the novel;\n",
    "* you have used tokenization and regular expressions to extract the list of words in _Moby Dick_.\n",
    "\n",
    "**Up next:** extract the list of words in _Moby Dick_ using `nltk`, the Natural Language Toolkit.\n",
    "\n",
    "Go get it!"
   ]
  },
  {
   "cell_type": "code",
   "execution_count": 12,
   "metadata": {},
   "outputs": [
    {
     "data": {
      "text/plain": [
       "['Moby',\n",
       " 'Dick',\n",
       " 'Or',\n",
       " 'the',\n",
       " 'Whale',\n",
       " 'by',\n",
       " 'Herman',\n",
       " 'Melville',\n",
       " 'body',\n",
       " 'background']"
      ]
     },
     "execution_count": 12,
     "metadata": {},
     "output_type": "execute_result"
    }
   ],
   "source": [
    "# Import RegexpTokenizer from nltk.tokenize\n",
    "from nltk.tokenize import RegexpTokenizer\n",
    "\n",
    "# Create tokenizer\n",
    "\n",
    "tokenizer = RegexpTokenizer(pick_all)\n",
    "\n",
    "# Create tokens\n",
    "tokens = tokenizer.tokenize(text)\n",
    "tokens[:10]"
   ]
  },
  {
   "cell_type": "markdown",
   "metadata": {},
   "source": [
    "**TO DO:** Create a list containing all the words in _Moby Dick_ such that all words contain only lower case letters. You'll find the string method `.lower()` handy:"
   ]
  },
  {
   "cell_type": "code",
   "execution_count": 13,
   "metadata": {},
   "outputs": [
    {
     "data": {
      "text/plain": [
       "['moby',\n",
       " 'dick',\n",
       " 'or',\n",
       " 'the',\n",
       " 'whale',\n",
       " 'by',\n",
       " 'herman',\n",
       " 'melville',\n",
       " 'body',\n",
       " 'background']"
      ]
     },
     "execution_count": 13,
     "metadata": {},
     "output_type": "execute_result"
    }
   ],
   "source": [
    "# Initialize new list\n",
    "l_words = []\n",
    "\n",
    "# Loop through list tokens and make lower case\n",
    "\n",
    "for word in tokens:\n",
    "    l_words.append(word.lower())\n",
    "\n",
    "# Print several items from list as sanity check\n",
    "l_words[:10]\n"
   ]
  },
  {
   "cell_type": "markdown",
   "metadata": {},
   "source": [
    "**Recap:** \n",
    "\n",
    "* you have scraped the web to get _Moby Dick_ from Project Gutenberg;\n",
    "* you have parsed the html and extracted the text of the novel;\n",
    "* you have used tokenization and regular expressions to extract the list of words in _Moby Dick_.\n",
    "\n",
    "**Up next:** remove common words such as 'a' and 'the' from the list of words."
   ]
  },
  {
   "cell_type": "markdown",
   "metadata": {},
   "source": [
    "#### Step 2: Remove stop words\n",
    "\n",
    "It is common practice to remove words that appear alot in the English language such as 'the', 'of' and 'a' (known as stopwords) because they're not so interesting. For more on all of these techniques, check out our [Natural Language Processing Fundamentals in Python course](https://www.datacamp.com/courses/nlp-fundamentals-in-python). \n",
    "\n",
    "The package `nltk` has a list of stopwords in English which you'll now store as `sw` and print the first several elements of:"
   ]
  },
  {
   "cell_type": "code",
   "execution_count": 22,
   "metadata": {},
   "outputs": [
    {
     "data": {
      "text/plain": [
       "['i', 'me', 'my', 'myself', 'we', 'our', 'ours', 'ourselves', 'you', \"you're\"]"
      ]
     },
     "execution_count": 22,
     "metadata": {},
     "output_type": "execute_result"
    }
   ],
   "source": [
    "# Import nltk\n",
    "\n",
    "import nltk\n",
    "\n",
    "# Get English stopwords and print some of them\n",
    "#nltk.download('stopwords')\n",
    "sw = nltk.corpus.stopwords.words('english')\n",
    "sw[:10]"
   ]
  },
  {
   "cell_type": "markdown",
   "metadata": {},
   "source": [
    "You want the list of all words in `words` that are *not* in `sw`. One way to get this list is to loop over all elements of `words` and add the to a new list if they are *not* in `sw`:"
   ]
  },
  {
   "cell_type": "code",
   "execution_count": 27,
   "metadata": {
    "scrolled": true
   },
   "outputs": [
    {
     "name": "stdout",
     "output_type": "stream",
     "text": [
      "['moby', 'dick', 'whale', 'herman', 'melville', 'body', 'background', 'faebd0', 'color', 'black']\n"
     ]
    }
   ],
   "source": [
    "# Initialize new list\n",
    "\n",
    "new_words = []\n",
    "\n",
    "# Add to words_ns all words that are in words but not in sw\n",
    "for word in l_words:\n",
    "    if word not in sw:\n",
    "        new_words.append(word)\n",
    "        \n",
    "\n",
    "\n",
    "\n",
    "# Print several list items as sanity check\n",
    "print(new_words[:10])"
   ]
  },
  {
   "cell_type": "markdown",
   "metadata": {},
   "source": [
    "**Recap:** \n",
    "\n",
    "* you have scraped the web to get _Moby Dick_ from Project Gutenberg;\n",
    "* you have parsed the html and extracted the text of the novel;\n",
    "* you have used tokenization and regular expressions to extract the list of words in _Moby Dick_.\n",
    "* you have removed common words such as 'a' and 'the' from the list of words.\n",
    "\n",
    "**Up next:** plot the word frequency distribution of words in _Moby Dick_."
   ]
  },
  {
   "cell_type": "markdown",
   "metadata": {},
   "source": [
    "## 4. Answer your question"
   ]
  },
  {
   "cell_type": "markdown",
   "metadata": {},
   "source": [
    "\n",
    "\n",
    "Our question was 'What are the most frequent words in the novel Moby Dick and how often do they occur?' \n",
    "\n",
    "You can now plot a frequency distribution of words in _Moby Dick_ in two line of code using `nltk`. To do this,\n",
    "\n",
    "* Create a frequency distribution object using the function `nltk.FreqDist()`;\n",
    "* Using the plot method of the resulting object."
   ]
  },
  {
   "cell_type": "code",
   "execution_count": 49,
   "metadata": {},
   "outputs": [
    {
     "data": {
      "image/png": "[encoded data removed]",
      "text/plain": [
       "<matplotlib.figure.Figure at 0x666e9b2860>"
      ]
     },
     "metadata": {},
     "output_type": "display_data"
    }
   ],
   "source": [
    "#Import datavis libraries\n",
    "import matplotlib.pyplot as plt\n",
    "import seaborn as sns\n",
    "\n",
    "\n",
    "# Figures inline and set visualization style\n",
    "%matplotlib inline\n",
    "sns.set()\n",
    "\n",
    "\n",
    "# Create freq dist and plot\n",
    "freqdist1 = nltk.FreqDist(new_words)\n",
    "freqdist1.plot(30)"
   ]
  },
  {
   "cell_type": "markdown",
   "metadata": {},
   "source": [
    "**Recap:** \n",
    "\n",
    "* you have scraped the web to get _Moby Dick_ from Project Gutenberg;\n",
    "* you have parsed the html and extracted the text of the novel;\n",
    "* you have used tokenization and regular expressions to extract the list of words in _Moby Dick_.\n",
    "* you have removed common words such as 'a' and 'the' from the list of words.\n",
    "* you have plotted the word frequency distribution of words in _Moby Dick_.\n",
    "\n",
    "**Up next:** adding more stopwords."
   ]
  },
  {
   "cell_type": "markdown",
   "metadata": {},
   "source": [
    "### Add more stop words"
   ]
  },
  {
   "cell_type": "code",
   "execution_count": 40,
   "metadata": {},
   "outputs": [
    {
     "data": {
      "image/png": "[encoded data removed]",
      "text/plain": [
       "<matplotlib.figure.Figure at 0x666eaa6198>"
      ]
     },
     "metadata": {},
     "output_type": "display_data"
    }
   ],
   "source": [
    "# Import stopwords from sklearn\n",
    "from sklearn.feature_extraction.stop_words import ENGLISH_STOP_WORDS\n",
    "\n",
    "# Add sklearn stopwords to words_sw\n",
    "#sw = set(sw + list(ENGLISH_STOP_WORDS))\n",
    "\n",
    "# Initialize new list\n",
    "words_ns = []\n",
    "\n",
    "# Add to words_ns all words that are in words but not in sw\n",
    "for word in l_words:\n",
    "    if word not in sw:\n",
    "        words_ns.append(word)\n",
    "\n",
    "\n",
    "\n",
    "\n",
    "\n",
    "# Create freq dist and plot\n",
    "freqdist2 = nltk.FreqDist(words_ns)\n",
    "freqdist2.plot(30)\n"
   ]
  },
  {
   "cell_type": "markdown",
   "metadata": {},
   "source": [
    "## 5. Present your solution so that others can understand it.\n",
    "\n",
    "The cool thing is that, in using `nltk` to answer our question, we actually already presented our solution in a manner that can be communicated to other: a frequency distribution plot! You can read off the most common words, along with their frequency. For example, 'whale' is the most common word in the novel (go figure), excepting stopwords, and it occurs a whopping >1200 times! "
   ]
  },
  {
   "cell_type": "markdown",
   "metadata": {},
   "source": [
    "___\n",
    "## BONUS MATERIAL"
   ]
  },
  {
   "cell_type": "markdown",
   "metadata": {},
   "source": [
    "As you have seen that there are lots of novels on Project Gutenberg we can make these word frequency distributions of, it makes sense to write your own function that does all of this:"
   ]
  },
  {
   "cell_type": "code",
   "execution_count": 50,
   "metadata": {},
   "outputs": [],
   "source": [
    "def plot_word_freq(url):\n",
    "    \"\"\"Takes a url (from Project Gutenberg) and plots a word frequency\n",
    "    distribution\"\"\"\n",
    "    # Make the request and check object type\n",
    "    r = requests.get(url)\n",
    "    # Extract HTML from Response object and print\n",
    "    html = r.text\n",
    "    # Create a BeautifulSoup object from the HTML\n",
    "    soup = BeautifulSoup(html, \"html5lib\")\n",
    "    # Get the text out of the soup and print it\n",
    "    text = soup.get_text()\n",
    "    # Create tokenizer\n",
    "    tokenizer = RegexpTokenizer('\\w+')\n",
    "    # Create tokens\n",
    "    tokens = tokenizer.tokenize(text)\n",
    "    # Initialize new list\n",
    "    words = []\n",
    "    # Loop through list tokens and make lower case\n",
    "    for word in tokens:\n",
    "        words.append(word.lower())\n",
    "    # Get English stopwords and print some of them\n",
    "    sw = nltk.corpus.stopwords.words('english')\n",
    "    # Initialize new list\n",
    "    words_ns = []\n",
    "    # Add to words_ns all words that are in words but not in sw\n",
    "    for word in words:\n",
    "        if word not in sw:\n",
    "            words_ns.append(word)\n",
    "    # Create freq dist and plot\n",
    "    freqdist1 = nltk.FreqDist(words_ns)\n",
    "    freqdist1.plot(25)"
   ]
  },
  {
   "cell_type": "code",
   "execution_count": 54,
   "metadata": {},
   "outputs": [
    {
     "data": {
      "image/png": "[encoded data removed]",
      "text/plain": [
       "<matplotlib.figure.Figure at 0x666f5bc470>"
      ]
     },
     "metadata": {},
     "output_type": "display_data"
    }
   ],
   "source": [
    "#Pride and Prejudice\n",
    "plot_word_freq('https://www.gutenberg.org/files/42671/42671-h/42671-h.htm')"
   ]
  },
  {
   "cell_type": "code",
   "execution_count": 55,
   "metadata": {},
   "outputs": [
    {
     "data": {
      "image/png": "[encoded data removed]",
      "text/plain": [
       "<matplotlib.figure.Figure at 0x667231c978>"
      ]
     },
     "metadata": {},
     "output_type": "display_data"
    }
   ],
   "source": [
    "#Robinson Crusoe\n",
    "plot_word_freq('https://www.gutenberg.org/files/521/521-h/521-h.htm')"
   ]
  },
  {
   "cell_type": "code",
   "execution_count": 53,
   "metadata": {},
   "outputs": [
    {
     "data": {
      "image/png": "[encoded data removed]",
      "text/plain": [
       "<matplotlib.figure.Figure at 0x6678fdc208>"
      ]
     },
     "metadata": {},
     "output_type": "display_data"
    }
   ],
   "source": [
    "#The King James Bible\n",
    "plot_word_freq('https://www.gutenberg.org/files/10/10-h/10-h.htm')"
   ]
  },
  {
   "cell_type": "code",
   "execution_count": null,
   "metadata": {},
   "outputs": [],
   "source": []
  }
 ],
 "metadata": {
  "kernelspec": {
   "display_name": "Python 3",
   "language": "python",
   "name": "python3"
  },
  "language_info": {
   "codemirror_mode": {
    "name": "ipython",
    "version": 3
   },
   "file_extension": ".py",
   "mimetype": "text/x-python",
   "name": "python",
   "nbconvert_exporter": "python",
   "pygments_lexer": "ipython3",
   "version": "3.6.3"
  }
 },
 "nbformat": 4,
 "nbformat_minor": 2
}
